{
 "cells": [
  {
   "cell_type": "code",
   "execution_count": null,
   "id": "488c074e",
   "metadata": {},
   "outputs": [],
   "source": [
    "from selenium import webdriver\n",
    "from selenium.webdriver.common.keys import Keys\n",
    "from selenium.webdriver.support import expected_conditions as EC\n",
    "from selenium.webdriver.common.by import By\n",
    "from selenium.webdriver.support.wait import WebDriverWait\n",
    "from selenium.common.exceptions import NoSuchElementException\n",
    "import time\n",
    "import random\n",
    "import json\n",
    "from scholarly import scholarly\n",
    "import requests\n",
    "from bs4 import BeautifulSoup\n",
    "import re\n",
    "import csv\n",
    "import pandas as pd"
   ]
  },
  {
   "cell_type": "code",
   "execution_count": null,
   "id": "82a72dd3",
   "metadata": {},
   "outputs": [],
   "source": [
    "chrome_options = webdriver.ChromeOptions()\n",
    "prefs = {\"profile.default_content_setting_values.notifications\" : 2}\n",
    "chrome_options.add_experimental_option(\"prefs\",prefs)"
   ]
  },
  {
   "cell_type": "code",
   "execution_count": null,
   "id": "11566f78",
   "metadata": {},
   "outputs": [],
   "source": [
    "driver = webdriver.Chrome(r\"C:\\Users\\COM01\\Downloads\\chromedriver_win32 (1)\\chromedriver.exe\", chrome_options=chrome_options)\n",
    "driver.get('https://scholar.google.com/')\n",
    "# log-in by self"
   ]
  },
  {
   "cell_type": "code",
   "execution_count": null,
   "id": "3552fe8f",
   "metadata": {},
   "outputs": [],
   "source": [
    "# read csv file \n",
    "# list scopus id into list_id\n",
    "data_all = pd.read_csv(r\"C:\\Users\\COM01\\Downloads\\5065-6330.csv\",encoding='latin1')\n",
    "list_id = [\"UIY-locAAAAJ\"]"
   ]
  },
  {
   "cell_type": "code",
   "execution_count": null,
   "id": "e2e63f87",
   "metadata": {
    "scrolled": true
   },
   "outputs": [],
   "source": [
    "scholar = []\n",
    "for id in list_id:\n",
    "    driver.get(f'https://www.scopus.com/authid/detail.uri?authorId={id}')\n",
    "    driver.execute_script(\"document.body.style.zoom='30%'\")\n",
    "    time.sleep(3)\n",
    "    \n",
    "# show 200 result\n",
    "    \n",
    "    try:\n",
    "        driver.find_element(By.XPATH, '//*[@id=\"documents-panel\"]/div[2]/div/div[2]/div/els-results-layout/els-paginator/nav/els-select/div/label/select/option[5]').click()\n",
    "        time.sleep(3)\n",
    "    except:\n",
    "        pass\n",
    "\n",
    "    button = driver.find_element(By.XPATH, '//*[@id=\"documents-panel\"]/div[2]/div[2]/div[2]/div/els-results-layout/div[1]/ul/li[1]/div/div[1]/els-collapsible-panel-v2/div/button')\n",
    "    button.click\n",
    "\n",
    "    li_elements = driver.find_elements(By.XPATH, '//*[@id=\"documents-panel\"]/div[2]/div/div[2]/div/els-results-layout/div[1]/ul/li')\n",
    "    wait = WebDriverWait(driver, 10)\n",
    "\n",
    "    for li in li_elements:\n",
    "        try :\n",
    "            button1 = li.find_element(By.XPATH, './/div/div/els-collapsible-panel-v2/div/button')\n",
    "            driver.execute_script(\"arguments[0].click();\", button1)\n",
    "        except NoSuchElementException:\n",
    "            pass\n",
    "            \n",
    "        time.sleep(3)\n",
    "\n",
    "\n",
    "        \n",
    "\n",
    "    author_name = driver.find_element(By.XPATH, '//h1[@data-testid=\"author-profile-name\"]').text\n",
    "    author_id = id \n",
    "    num_doc = driver.find_element(By.XPATH, '(//*/span[@data-testid=\"unclickable-count\"])[2]').text\n",
    "   \n",
    "    \n",
    " \n",
    "    research_list = []\n",
    "    researchs = driver.find_elements(By.XPATH, \"//*/els-results-layout//h4\")\n",
    "    for i in range(len(researchs)):\n",
    "        research_list.append(researchs[i].text)\n",
    "    \n",
    "    date_list = []\n",
    "    research_date = driver.find_elements(By.XPATH, '//*/els-results-layout/div[1]//span')\n",
    "    for i in range(len(research_date)):\n",
    "        date_list.append(research_date[i].text)\n",
    "\n",
    "    abs_list = []\n",
    "    abs = driver.find_elements(By.XPATH, '//*/els-results-layout//els-collapsible-panel-v2/section')\n",
    "    for i in range(len(abs)):\n",
    "        abs_list.append(abs[i].text)\n",
    "    \n",
    "    print(author_name, \"Number of Documents :\", num_doc)\n",
    "    \n",
    "\n",
    "    scopus = dict()\n",
    "    scopus['author_id']  = author_id\n",
    "    scopus['author_name'] = author_name\n",
    "    scopus['documents_number'] = num_doc\n",
    "    scopus['documents'] = list()\n",
    "    for i in range(int(num_doc.split(\" \")[0])):\n",
    "        temp_dict = dict()\n",
    "        temp_dict['title'] = research_list[i]\n",
    "        temp_dict['date'] = date_list[i]\n",
    "        temp_dict['abstraction'] = abs_list[i]\n",
    "        scopus['documents'].append(temp_dict)\n",
    "\n",
    "    scholar.append(scopus)"
   ]
  },
  {
   "cell_type": "code",
   "execution_count": null,
   "id": "371454b5",
   "metadata": {
    "scrolled": true
   },
   "outputs": [],
   "source": [
    "\n",
    "scholar"
   ]
  },
  {
   "cell_type": "code",
   "execution_count": null,
   "id": "8fc00236",
   "metadata": {},
   "outputs": [],
   "source": [
    "df1 = pd.DataFrame(scholar, columns = ['author_id', 'author_name', 'documents_number',\n",
    "                                           'citiations' , 'h-index' , 'co-authors' , 'documents'])"
   ]
  },
  {
   "cell_type": "code",
   "execution_count": null,
   "id": "276e1ee4",
   "metadata": {},
   "outputs": [],
   "source": [
    "df1"
   ]
  },
  {
   "cell_type": "code",
   "execution_count": null,
   "id": "65c9a98a",
   "metadata": {},
   "outputs": [],
   "source": [
    "df1['documents'][0]"
   ]
  },
  {
   "cell_type": "code",
   "execution_count": null,
   "id": "75f28fa1",
   "metadata": {},
   "outputs": [],
   "source": [
    "type(df1['documents'][0])"
   ]
  },
  {
   "cell_type": "code",
   "execution_count": null,
   "id": "b5796530",
   "metadata": {},
   "outputs": [],
   "source": [
    "df1['documents'][0][1]"
   ]
  },
  {
   "cell_type": "code",
   "execution_count": null,
   "id": "15d90dbb",
   "metadata": {},
   "outputs": [],
   "source": [
    "df1=df1.explode('documents')\n",
    "df1"
   ]
  },
  {
   "cell_type": "code",
   "execution_count": null,
   "id": "1573f975",
   "metadata": {
    "scrolled": true
   },
   "outputs": [],
   "source": [
    "df1['main_title']=df1['documents'].apply(lambda v:v)\n",
    "df1"
   ]
  },
  {
   "cell_type": "code",
   "execution_count": null,
   "id": "2db163b0",
   "metadata": {},
   "outputs": [],
   "source": [
    "df1['main_abstract']=df1['main_title'].apply(lambda v:v)\n",
    "df1"
   ]
  },
  {
   "cell_type": "code",
   "execution_count": null,
   "id": "5c82be58",
   "metadata": {},
   "outputs": [],
   "source": [
    "df1['main_title'].apply(lambda v: v['title'])"
   ]
  },
  {
   "cell_type": "code",
   "execution_count": null,
   "id": "643902cf",
   "metadata": {
    "scrolled": true
   },
   "outputs": [],
   "source": [
    "df1['Title']=df1['main_title'].apply(lambda v:v['title'])\n",
    "df1"
   ]
  },
  {
   "cell_type": "code",
   "execution_count": null,
   "id": "280f1da6",
   "metadata": {
    "scrolled": true
   },
   "outputs": [],
   "source": [
    "df1['main_abstract'].apply(lambda v: v['abstraction'])"
   ]
  },
  {
   "cell_type": "code",
   "execution_count": null,
   "id": "bfb759ac",
   "metadata": {
    "scrolled": true
   },
   "outputs": [],
   "source": [
    "df1['Abstraction']=df1['main_abstract'].apply(lambda v:v['abstraction'])\n",
    "df1"
   ]
  },
  {
   "cell_type": "code",
   "execution_count": null,
   "id": "e0541be6",
   "metadata": {
    "scrolled": true
   },
   "outputs": [],
   "source": [
    "df1.drop(['documents' , 'main_title' , 'main_abstract'], axis=1)"
   ]
  },
  {
   "cell_type": "code",
   "execution_count": null,
   "id": "fba99fef",
   "metadata": {},
   "outputs": [],
   "source": [
    "df1.to_xlsx('resercher_all.xlsx',index=False)"
   ]
  }
 ],
 "metadata": {
  "kernelspec": {
   "display_name": "Python 3",
   "language": "python",
   "name": "python3"
  },
  "language_info": {
   "codemirror_mode": {
    "name": "ipython",
    "version": 3
   },
   "file_extension": ".py",
   "mimetype": "text/x-python",
   "name": "python",
   "nbconvert_exporter": "python",
   "pygments_lexer": "ipython3",
   "version": "3.8.8"
  }
 },
 "nbformat": 4,
 "nbformat_minor": 5
}
