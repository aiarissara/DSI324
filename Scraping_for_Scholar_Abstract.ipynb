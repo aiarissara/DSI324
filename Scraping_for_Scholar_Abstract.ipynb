{
 "cells": [
  {
   "cell_type": "code",
   "execution_count": 1,
   "id": "488c074e",
   "metadata": {},
   "outputs": [],
   "source": [
    "from selenium import webdriver\n",
    "from selenium.webdriver.common.keys import Keys\n",
    "from selenium.webdriver.support import expected_conditions as EC\n",
    "from selenium.webdriver.common.by import By\n",
    "from selenium.webdriver.support.wait import WebDriverWait\n",
    "from selenium.common.exceptions import NoSuchElementException\n",
    "import time\n",
    "import random\n",
    "import json\n",
    "from scholarly import scholarly\n",
    "import requests\n",
    "from bs4 import BeautifulSoup\n",
    "import re\n",
    "import csv\n",
    "import pandas as pd"
   ]
  },
  {
   "cell_type": "code",
   "execution_count": 2,
   "id": "82a72dd3",
   "metadata": {},
   "outputs": [],
   "source": [
    "chrome_options = webdriver.ChromeOptions()\n",
    "prefs = {\"profile.default_content_setting_values.notifications\" : 2}\n",
    "chrome_options.add_experimental_option(\"prefs\",prefs)"
   ]
  },
  {
   "cell_type": "code",
   "execution_count": 3,
   "id": "11566f78",
   "metadata": {},
   "outputs": [
    {
     "name": "stderr",
     "output_type": "stream",
     "text": [
      "C:\\Users\\COM01\\AppData\\Local\\Temp\\ipykernel_19076\\4208443415.py:1: DeprecationWarning: executable_path has been deprecated, please pass in a Service object\n",
      "  driver = webdriver.Chrome(r\"C:\\Users\\COM01\\Downloads\\chromedriver_win32(1)\\chromedriver.exe\", chrome_options=chrome_options)\n",
      "C:\\Users\\COM01\\AppData\\Local\\Temp\\ipykernel_19076\\4208443415.py:1: DeprecationWarning: use options instead of chrome_options\n",
      "  driver = webdriver.Chrome(r\"C:\\Users\\COM01\\Downloads\\chromedriver_win32(1)\\chromedriver.exe\", chrome_options=chrome_options)\n"
     ]
    }
   ],
   "source": [
    "driver = webdriver.Chrome(r\"C:\\Users\\COM01\\Downloads\\chromedriver_win32(1)\\chromedriver.exe\", chrome_options=chrome_options)\n",
    "driver.get('https://scholar.google.com/')\n",
    "# log-in by self"
   ]
  },
  {
   "cell_type": "code",
   "execution_count": 4,
   "id": "3552fe8f",
   "metadata": {},
   "outputs": [],
   "source": [
    "# read csv file \n",
    "# list scopus id into list_id\n",
    "df = pd.read_csv(r\"C:\\Users\\COM01\\Downloads\\5065-6330.csv\",encoding='latin1')\n",
    "list_id = [\"Saowanit Chunlawong\"]"
   ]
  },
  {
   "cell_type": "code",
   "execution_count": 5,
   "id": "e2e63f87",
   "metadata": {
    "scrolled": true
   },
   "outputs": [],
   "source": [
    "scholar = []\n",
    "for id in list_id:\n",
    "    driver.get(f'https://scholar.google.com/scholar?hl=en&as_sdt=0%2C5&q')\n",
    "    name = list_id\n",
    "    search_input = driver.find_element(\"name\", \"q\")\n",
    "    search_input.send_keys(name)\n",
    "    search_input.send_keys(Keys.RETURN)\n",
    "    time.sleep(3)\n",
    "    \n",
    "    next_button = WebDriverWait(driver, 10).until(EC.presence_of_element_located((By.CSS_SELECTOR, '#gs_nm > button.gs_btnPR.gs_in_ib.gs_btn_lrge.gs_btn_half.gs_btn_lsu')))\n",
    "    while next_button:\n",
    "    # find all the articles on the current page\n",
    "        articles = driver.find_elements(By.XPATH, '//*[@id=\"gs_bdy\"]')\n",
    "        \n",
    "        for article in articles:\n",
    "            try:\n",
    "                author_name = article.find_element(By.XPATH, '//*[@id=\"gs_res_ccl_mid\"]/div[1]/h3/a/b').text\n",
    "            except  NoSuchElementException:\n",
    "                pass\n",
    " \n",
    "            research_list = []\n",
    "            researchs = article.find_elements(By.XPATH, '//*[@id=\"y5aWsq4_S0wJ\"]')\n",
    "            for i in range(len(researchs)):\n",
    "                research_list.append(researchs[i].text)\n",
    "    \n",
    "            date_list = []\n",
    "            research_date = article.find_elements(By.XPATH, '//*[@id=\"gs_res_ccl_mid\"]/div[2]/div[2]/div[1]')\n",
    "            for i in range(len(research_date)):\n",
    "                date_list.append(research_date[i].text)\n",
    "\n",
    "                abs_list = []\n",
    "                abs = article.find_elements(By.XPATH, '//*[@id=\"gs_res_ccl_mid\"]/div[2]/div[2]/div[2]')\n",
    "                for i in range(len(abs)):\n",
    "                    abs_list.append(abs[i].text)\n",
    "    \n",
    "            scopus = dict()\n",
    "            scopus['author_name'] = author_name\n",
    "            scopus['documents'] = []\n",
    "            for i in range(len(research_list)):\n",
    "                temp_dict = dict()\n",
    "                temp_dict['title'] = research_list[i]\n",
    "                temp_dict['date'] = date_list[i]\n",
    "                temp_dict['abstraction'] = abs_list[i]\n",
    "                scopus['documents'].append(temp_dict)\n",
    "\n",
    "            scholar.append(scopus)\n",
    "\n",
    "        next_button.click()\n",
    "\n",
    "        try:\n",
    "            # wait for the \"next\" button element to become available again\n",
    "            next_button = WebDriverWait(driver, 10).until(EC.presence_of_element_located((By.CSS_SELECTOR, '#gs_nm > button.gs_btnPR.gs_in_ib.gs_btn_lrge.gs_btn_half.gs_btn_lsu')))\n",
    "        except:\n",
    "            break\n",
    "\n"
   ]
  },
  {
   "cell_type": "code",
   "execution_count": null,
   "id": "371454b5",
   "metadata": {
    "scrolled": true
   },
   "outputs": [
    {
     "data": {
      "text/plain": [
       "[]"
      ]
     },
     "execution_count": 16,
     "metadata": {},
     "output_type": "execute_result"
    }
   ],
   "source": [
    "scholar"
   ]
  },
  {
   "cell_type": "code",
   "execution_count": null,
   "id": "8fc00236",
   "metadata": {},
   "outputs": [],
   "source": [
    "df1 = pd.DataFrame(scholar, columns = ['author_id', 'author_name', 'documents_number',\n",
    "                                           'citiations' , 'h-index' , 'co-authors' , 'documents'])"
   ]
  },
  {
   "cell_type": "code",
   "execution_count": null,
   "id": "276e1ee4",
   "metadata": {},
   "outputs": [],
   "source": [
    "df1"
   ]
  },
  {
   "cell_type": "code",
   "execution_count": null,
   "id": "e5e3cd0a",
   "metadata": {},
   "outputs": [],
   "source": [
    "df1['documents'][0]"
   ]
  },
  {
   "cell_type": "code",
   "execution_count": null,
   "id": "59adb878",
   "metadata": {},
   "outputs": [],
   "source": [
    "type(df1['documents'][0])"
   ]
  },
  {
   "cell_type": "code",
   "execution_count": null,
   "id": "7a5ff3fb",
   "metadata": {},
   "outputs": [],
   "source": [
    "df1['documents'][0][1]"
   ]
  },
  {
   "cell_type": "code",
   "execution_count": null,
   "id": "b4d25910",
   "metadata": {},
   "outputs": [],
   "source": [
    "df1=df1.explode('documents')\n",
    "df1"
   ]
  },
  {
   "cell_type": "code",
   "execution_count": null,
   "id": "4b3617c2",
   "metadata": {
    "scrolled": true
   },
   "outputs": [],
   "source": [
    "df1['main_title']=df1['documents'].apply(lambda v:v)\n",
    "df1"
   ]
  },
  {
   "cell_type": "code",
   "execution_count": null,
   "id": "51cd74eb",
   "metadata": {},
   "outputs": [],
   "source": [
    "df1['main_abstract']=df1['main_title'].apply(lambda v:v)\n",
    "df1"
   ]
  },
  {
   "cell_type": "code",
   "execution_count": null,
   "id": "678b73d8",
   "metadata": {},
   "outputs": [],
   "source": [
    "df1['main_title'].apply(lambda v: v['title'])"
   ]
  },
  {
   "cell_type": "code",
   "execution_count": null,
   "id": "d3f9d325",
   "metadata": {
    "scrolled": true
   },
   "outputs": [],
   "source": [
    "df1['Title']=df1['main_title'].apply(lambda v:v['title'])\n",
    "df1"
   ]
  },
  {
   "cell_type": "code",
   "execution_count": null,
   "id": "5dcd4940",
   "metadata": {
    "scrolled": true
   },
   "outputs": [],
   "source": [
    "df1['main_abstract'].apply(lambda v: v['abstraction'])"
   ]
  },
  {
   "cell_type": "code",
   "execution_count": null,
   "id": "50ccb3e2",
   "metadata": {
    "scrolled": true
   },
   "outputs": [],
   "source": [
    "df1['Abstraction']=df1['main_abstract'].apply(lambda v:v['abstraction'])\n",
    "df1"
   ]
  },
  {
   "cell_type": "code",
   "execution_count": null,
   "id": "5480cc32",
   "metadata": {
    "scrolled": true
   },
   "outputs": [],
   "source": [
    "df1.drop(['documents' , 'main_title' , 'main_abstract' , 'documents_number'], axis=1)"
   ]
  },
  {
   "cell_type": "code",
   "execution_count": null,
   "id": "351b02b2",
   "metadata": {},
   "outputs": [],
   "source": [
    "df1.to_xlsx('resercher_all.xlsx',index=False)"
   ]
  }
 ],
 "metadata": {
  "kernelspec": {
   "display_name": "Python 3 (ipykernel)",
   "language": "python",
   "name": "python3"
  },
  "language_info": {
   "codemirror_mode": {
    "name": "ipython",
    "version": 3
   },
   "file_extension": ".py",
   "mimetype": "text/x-python",
   "name": "python",
   "nbconvert_exporter": "python",
   "pygments_lexer": "ipython3",
   "version": "3.10.7"
  }
 },
 "nbformat": 4,
 "nbformat_minor": 5
}
