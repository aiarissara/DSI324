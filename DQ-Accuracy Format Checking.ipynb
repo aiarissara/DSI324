{
 "cells": [
  {
   "cell_type": "code",
   "execution_count": null,
   "id": "75106226",
   "metadata": {},
   "outputs": [],
   "source": [
    "import csv\n",
    "def check_name_format(name):\n",
    "    # Skip empty cells\n",
    "    if not name.strip():\n",
    "        return True   \n",
    "    # Check if the name contains \"Miss\" or \"Mr\" or \"Mrs\"\n",
    "    if \"Miss.\" in name or \"Mr.\" in name or \"Mrs.\" in name:\n",
    "        return False\n",
    "    # Check if the name starts with an uppercase letter and the rest are lowercase, hyphens, spaces, or underscores\n",
    "    if not name[0].isupper() or not all(c.islower() or c.isspace() or c == \"-\" or c == \"_\" or c == \"'\" for c in name[1:]):\n",
    "        return False\n",
    "    return True\n",
    "filename = \"final2.csv\"\n",
    "columns_to_check = [1, 2]  # Replace with the columns you want to check\n",
    "invalid_counts = [0] * len(columns_to_check)\n",
    "total_counts = [0] * len(columns_to_check)\n",
    "total_rows = 0\n",
    "with open(filename, 'r', newline='') as file:\n",
    "    reader = csv.reader(file)\n",
    "    for row in reader:\n",
    "        total_rows += 1\n",
    "        for i, col in enumerate(columns_to_check):\n",
    "            total_counts[i] += 1\n",
    "            if not check_name_format(row[col]):\n",
    "                invalid_counts[i] += 1\n",
    "                print(f\"Invalid format in row {reader.line_num}, column {col+1}: {row[col]}\")\n",
    "print(\"Accuracy and total invalid formats for each column:\")\n",
    "for i, count in enumerate(invalid_counts):\n",
    "    col_num = columns_to_check[i] + 1\n",
    "    accuracy = (1 - count / total_counts[i]) * 100\n",
    "    print(f\"Column {col_num}: {accuracy:.2f}% accuracy, {count} invalid format(s)\")\n",
    "print(f\"Total rows in the CSV file: {total_rows}\")\n"
   ]
  }
 ],
 "metadata": {
  "kernelspec": {
   "display_name": "Python 3",
   "language": "python",
   "name": "python3"
  },
  "language_info": {
   "codemirror_mode": {
    "name": "ipython",
    "version": 3
   },
   "file_extension": ".py",
   "mimetype": "text/x-python",
   "name": "python",
   "nbconvert_exporter": "python",
   "pygments_lexer": "ipython3",
   "version": "3.11.3 (v3.11.3:f3909b8bc8, Apr  4 2023, 20:12:10) [Clang 13.0.0 (clang-1300.0.29.30)]"
  },
  "vscode": {
   "interpreter": {
    "hash": "aee8b7b246df8f9039afb4144a1f6fd8d2ca17a180786b69acc140d282b71a49"
   }
  }
 },
 "nbformat": 4,
 "nbformat_minor": 5
}
