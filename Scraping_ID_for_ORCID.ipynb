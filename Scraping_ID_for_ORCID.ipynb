{
 "cells": [
  {
   "cell_type": "code",
   "execution_count": null,
   "id": "9437c7b6",
   "metadata": {},
   "outputs": [],
   "source": [
    "import pandas as pd\n",
    "from selenium import webdriver\n",
    "import time\n",
    "import bs4\n",
    "import random"
   ]
  },
  {
   "cell_type": "code",
   "execution_count": null,
   "id": "26063a15",
   "metadata": {},
   "outputs": [],
   "source": [
    "driver = webdriver.Chrome(\"/Ai/tuinui/Desktop/chromedriver.exe\")"
   ]
  },
  {
   "cell_type": "code",
   "execution_count": null,
   "id": "9cda58ec",
   "metadata": {},
   "outputs": [],
   "source": [
    "df = pd.read_excel('ai.xlsx')"
   ]
  },
  {
   "cell_type": "code",
   "execution_count": null,
   "id": "44de93a4",
   "metadata": {},
   "outputs": [],
   "source": [
    "for index, row in df.iterrows():\n",
    "    \n",
    "    first_name = row['Firstname']\n",
    "    last_name = row['Lastname']\n",
    "    \n",
    "    driver.get(f'https://orcid.org/orcid-search/search?firstName={first_name}&lastName={last_name}')\n",
    "    time.sleep(random.randint(3,5))\n",
    "    \n",
    "    data = driver.page_source\n",
    "    soup = bs4.BeautifulSoup(data)\n",
    "    h3_elements = soup.find_all('td', class_='orcid-id-column')\n",
    "    if len(h3_elements) > 0:\n",
    "        first_element = h3_elements[0]\n",
    "        text = first_element.get_text().strip()\n",
    "        print(f'{first_name} {last_name}: {text}')\n",
    "        df.at[index, 'ORCID'] = text\n",
    "    else:\n",
    "        print(f'{first_name} {last_name}: Not found')\n",
    "        df.at[index, 'ORCID'] = \"Not found\""
   ]
  },
  {
   "cell_type": "code",
   "execution_count": null,
   "id": "98c78ba4",
   "metadata": {},
   "outputs": [],
   "source": [
    "df.to_excel('ai.orcid.xlsx', index=False)"
   ]
  }
 ],
 "metadata": {
  "kernelspec": {
   "display_name": "Python 3",
   "language": "python",
   "name": "python3"
  },
  "language_info": {
   "codemirror_mode": {
    "name": "ipython",
    "version": 3
   },
   "file_extension": ".py",
   "mimetype": "text/x-python",
   "name": "python",
   "nbconvert_exporter": "python",
   "pygments_lexer": "ipython3",
   "version": "3.8.8"
  }
 },
 "nbformat": 4,
 "nbformat_minor": 5
}
