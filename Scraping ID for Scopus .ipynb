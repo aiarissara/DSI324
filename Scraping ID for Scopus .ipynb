{
 "cells": [
  {
   "cell_type": "code",
   "execution_count": null,
   "id": "d192547e",
   "metadata": {},
   "outputs": [],
   "source": [
    "import pandas as pd\n",
    "from selenium.webdriver.common.by import By\n",
    "import re\n",
    "import time\n",
    "import random\n",
    "from selenium import webdriver"
   ]
  },
  {
   "cell_type": "code",
   "execution_count": null,
   "id": "45cd406a",
   "metadata": {},
   "outputs": [],
   "source": [
    "driver = webdriver.Chrome(\"/Ai/tuinui/Desktop/chromedriver.exe\")"
   ]
  },
  {
   "cell_type": "code",
   "execution_count": null,
   "id": "0210d716",
   "metadata": {},
   "outputs": [],
   "source": [
    "df = pd.read_excel('ai.xlsx')"
   ]
  },
  {
   "cell_type": "code",
   "execution_count": null,
   "id": "9aa9a944",
   "metadata": {},
   "outputs": [],
   "source": [
    "for index, row in df.iterrows():\n",
    "    \n",
    "    first_name = row['Firstname']\n",
    "    last_name = row['Lastname']\n",
    "    \n",
    "    driver.get(f'https://www.scopus.com/results/authorNamesList.uri?st1={last_name}&st2={first_name}')\n",
    "    time.sleep(random.randint(3,5))\n",
    "    \n",
    "    try:\n",
    "        id_element = driver.find_element(By.XPATH, '//*/td[@class=\"authorResultsNamesCol col20\"]')\n",
    "        id = id_element.get_attribute('id')\n",
    "        id = re.findall('\\d+', id)[0]\n",
    "        print(f'{first_name} {last_name}: {id}')\n",
    "        df.at[index, 'Scopus Author ID'] = id\n",
    "    except:\n",
    "        print(f'{first_name} {last_name}: Not found')\n",
    "        df.at[index, 'Scopus Author ID'] = \"Not found\""
   ]
  },
  {
   "cell_type": "code",
   "execution_count": null,
   "id": "211ad406",
   "metadata": {},
   "outputs": [],
   "source": [
    "df.to_excel('ai1.xlsx', index=False)"
   ]
  }
 ],
 "metadata": {
  "kernelspec": {
   "display_name": "Python 3",
   "language": "python",
   "name": "python3"
  },
  "language_info": {
   "codemirror_mode": {
    "name": "ipython",
    "version": 3
   },
   "file_extension": ".py",
   "mimetype": "text/x-python",
   "name": "python",
   "nbconvert_exporter": "python",
   "pygments_lexer": "ipython3",
   "version": "3.8.8"
  }
 },
 "nbformat": 4,
 "nbformat_minor": 5
}
