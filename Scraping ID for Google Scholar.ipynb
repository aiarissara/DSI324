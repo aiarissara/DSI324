{
 "cells": [
  {
   "cell_type": "code",
   "execution_count": null,
   "id": "667ed0c6",
   "metadata": {},
   "outputs": [],
   "source": [
    "from selenium import webdriver\n",
    "from selenium.webdriver.common.keys import Keys\n",
    "import re\n",
    "import time\n",
    "import random\n",
    "from selenium.webdriver.common.by import By\n",
    "import pandas as pd"
   ]
  },
  {
   "cell_type": "code",
   "execution_count": null,
   "id": "c927e990",
   "metadata": {},
   "outputs": [],
   "source": [
    "chrome_options = webdriver.ChromeOptions()\n",
    "driver = webdriver.Chrome(r\"C:\\Users\\COM01\\Downloads\\chromedriver_win32 (1)\\chromedriver.exe\", chrome_options=chrome_options)"
   ]
  },
  {
   "cell_type": "code",
   "execution_count": null,
   "id": "203b4e92",
   "metadata": {},
   "outputs": [],
   "source": [
    "df = pd.read_excel('ชื่อ.xlsx')"
   ]
  },
  {
   "cell_type": "code",
   "execution_count": null,
   "id": "247fd1fa",
   "metadata": {},
   "outputs": [],
   "source": [
    "for index, row in df.iterrows():\n",
    "    name = row['Firstname'] + ' ' + row['Lastname']\n",
    "    \n",
    "    driver.get(\"https://scholar.google.com/\")\n",
    "    time.sleep(10)\n",
    "        \n",
    "    \n",
    "    search_input = driver.find_element(\"name\", \"q\")\n",
    "    search_input.send_keys(name)\n",
    "    search_input.send_keys(Keys.RETURN)\n",
    "    time.sleep(20)\n",
    "        \n",
    "    try:\n",
    "        profile_link = driver.find_element(By.XPATH, '//*[@id=\"gs_res_ccl_mid\"]/div[1]/h3/a')\n",
    "        profile_link.click()\n",
    "        time.sleep(10)\n",
    "        \n",
    "        link = driver.find_element(By.XPATH, '//*[@id=\"gsc_sa_ccl\"]/div/div/div/h3/a')\n",
    "        profile_url = link.get_attribute('href')\n",
    "        time.sleep(10)\n",
    "    \n",
    "        id_pattern = r'user=([A-Za-z0-9_-]+)'\n",
    "        match = re.search(id_pattern, profile_url)\n",
    "        if match:\n",
    "            id_string = match.group(1)\n",
    "            print(id_string)\n",
    "            df.at[index, 'Google Scholar ID'] = id_string\n",
    "            time.sleep(10)\n",
    "    except:\n",
    "        print(\"Profile not found.\")\n",
    "        df.at[index, 'Google Scholar ID'] = \" \""
   ]
  },
  {
   "cell_type": "code",
   "execution_count": null,
   "id": "ccf86460",
   "metadata": {},
   "outputs": [],
   "source": [
    "df.to_csv('5065-6330-ปลิวลม.csv', index=False, encoding='utf-8-sig')"
   ]
  }
 ],
 "metadata": {
  "kernelspec": {
   "display_name": "Python 3",
   "language": "python",
   "name": "python3"
  },
  "language_info": {
   "codemirror_mode": {
    "name": "ipython",
    "version": 3
   },
   "file_extension": ".py",
   "mimetype": "text/x-python",
   "name": "python",
   "nbconvert_exporter": "python",
   "pygments_lexer": "ipython3",
   "version": "3.8.8"
  },
  "vscode": {
   "interpreter": {
    "hash": "1702ff032a450e90369d48296fb6070c14e4ff777edeca62f689b109b215c7e6"
   }
  }
 },
 "nbformat": 4,
 "nbformat_minor": 5
}
